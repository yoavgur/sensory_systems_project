{
 "cells": [
  {
   "cell_type": "code",
   "execution_count": 19,
   "metadata": {},
   "outputs": [],
   "source": [
    "import re\n",
    "import os\n",
    "from bidict import bidict\n",
    "import numpy as np\n",
    "import pandas as pd\n",
    "import matplotlib.pyplot as plt\n",
    "from sklearn.model_selection import train_test_split"
   ]
  },
  {
   "cell_type": "code",
   "execution_count": 20,
   "metadata": {},
   "outputs": [],
   "source": [
    "import os\n",
    "import shutil\n",
    "import pickle\n",
    "import numpy as np\n",
    "import pandas as pd\n",
    "import seaborn as sns\n",
    "import matplotlib.pyplot as plt\n",
    "from matplotlib.colors import ListedColormap\n",
    "\n",
    "from sklearn.svm import SVC\n",
    "from sklearn.model_selection import train_test_split\n",
    "from sklearn.preprocessing import LabelEncoder\n",
    "from sklearn.metrics import classification_report, ConfusionMatrixDisplay, confusion_matrix, precision_recall_fscore_support, precision_score, make_scorer, recall_score\n",
    "from sklearn.model_selection import cross_val_score, cross_validate, GridSearchCV, RandomizedSearchCV\n",
    "from sklearn.inspection import DecisionBoundaryDisplay"
   ]
  },
  {
   "cell_type": "code",
   "execution_count": 21,
   "metadata": {},
   "outputs": [],
   "source": [
    "import warnings\n",
    "warnings.filterwarnings(\"ignore\")"
   ]
  },
  {
   "cell_type": "code",
   "execution_count": 22,
   "metadata": {},
   "outputs": [],
   "source": [
    "data_path = \"./data/crcns/aa2/\"\n",
    "stims_path = os.path.join(data_path, \"all_stims\")\n",
    "cells_path = os.path.join(data_path, \"all_cells\")\n",
    "\n",
    "brain_area_mapping = {\n",
    "    'OV': 'nucleus ovoidalis',\n",
    "    'L3': 'Primary Forebrain (L3)',\n",
    "    'mld': 'mesencephalicus lateralis dorsalis',\n",
    "    'CM': 'Caudal Mesopallium',\n",
    "    'None': 'None',\n",
    "    'L2a': 'Primary Forebrain (L2a)',\n",
    "    'L': 'Primary Forebrain (L)',\n",
    "    'L1': 'Primary Forebrain (L1)',\n",
    "    'L2b': 'Primary Forebrain (L2b)',\n",
    "}\n",
    "\n",
    "def listdir(path):\n",
    "    return [x for x in os.listdir(path) if not x.startswith(\".\")]\n",
    "\n",
    "def get_region(regions_df, cell_id):\n",
    "    regions = regions_df[regions_df.index == cell_id][\"region\"].values\n",
    "    assert len(regions) == 1, f\"Unexpected number of regions: {len(regions)}\"\n",
    "    return brain_area_mapping[regions[0]]\n",
    "\n",
    "def get_main_df():\n",
    "    d = {\"bird\": [], \"cell_id\": [], \"group_index\": [], \"trial_index\": [], \"nb_trials\": [], \"brain_region\": [], \"stimulus_type\": [], \"stimulus_file\": [], \"spike_file\": [], \"average_spikes\": []}\n",
    "\n",
    "    cell_regions_df = pd.read_csv(os.path.join(data_path, \"cell_regions.csv\"), header=None, index_col=0)\n",
    "    cell_regions_df.columns = [\"region\"]\n",
    "    cell_regions_df.index.name = \"Cell ID\"\n",
    "\n",
    "    cells = listdir(cells_path)\n",
    "    for cell in cells:\n",
    "        stim_types = listdir(os.path.join(cells_path, cell))\n",
    "        for stim_type in stim_types:\n",
    "            cell_stimuli_paths = []\n",
    "            spike_paths = []\n",
    "\n",
    "            stim_files = listdir(os.path.join(cells_path, cell, stim_type))\n",
    "            for stim_file in stim_files:\n",
    "                if stim_file.startswith(\"spike\"):\n",
    "                    spike_paths.append(os.path.join(cells_path, cell, stim_type, stim_file))\n",
    "                elif stim_file.startswith(\"stim\"):\n",
    "                    cell_stimuli_paths.append(os.path.join(cells_path, cell, stim_type, stim_file))\n",
    "                else:\n",
    "                    assert False, f\"Unexpected file prefix: {stim_file}\"\n",
    "\n",
    "            spike_paths.sort()\n",
    "            cell_stimuli_paths.sort()\n",
    "\n",
    "            for spike_path, stim_path in zip(spike_paths, cell_stimuli_paths):\n",
    "                stim_index = int(re.findall(r\"\\d+\", stim_path)[-1])\n",
    "                spike_index = int(re.findall(r\"\\d+\", spike_path)[-1])\n",
    "\n",
    "                if spike_index != stim_index:\n",
    "                    continue\n",
    "\n",
    "                with open(stim_path, \"r\") as f:\n",
    "                    stim_file_path = os.path.join(stims_path, f.read().strip())\n",
    "\n",
    "                with open(spike_path, \"r\") as f:\n",
    "                    spike_trials = f.read().splitlines()\n",
    "\n",
    "                lens = []\n",
    "                for trial in spike_trials:\n",
    "                    trial_spikes = 0\n",
    "                    for spike in trial.split():\n",
    "                        if spike != \"\" and float(spike) >= 0:\n",
    "                            trial_spikes += 1\n",
    "\n",
    "                    lens.append(trial_spikes)\n",
    "\n",
    "                bird, cell_id = cell.split(\"_\", 1)\n",
    "                if \"_\" in cell_id:\n",
    "                    cell_id, group_index = cell_id.split(\"_\")\n",
    "                else:\n",
    "                    group_index = 'A'\n",
    "\n",
    "                d[\"cell_id\"].append(cell_id)\n",
    "                d[\"trial_index\"].append(stim_index)\n",
    "                d[\"group_index\"].append(group_index)\n",
    "                d[\"bird\"].append(bird)\n",
    "                d[\"nb_trials\"].append(len(spike_trials))\n",
    "                d[\"brain_region\"].append(get_region(cell_regions_df, cell))\n",
    "                d[\"stimulus_type\"].append(stim_type)\n",
    "                d[\"average_spikes\"].append(np.average(lens))\n",
    "                d[\"stimulus_file\"].append(stim_file_path)\n",
    "                d[\"spike_file\"].append(spike_path)\n",
    "\n",
    "    return pd.DataFrame(d)\n",
    "\n",
    "df = get_main_df()"
   ]
  },
  {
   "cell_type": "code",
   "execution_count": 23,
   "metadata": {},
   "outputs": [
    {
     "data": {
      "text/plain": [
       "array(['flatrip', 'conspecific', 'songrip'], dtype=object)"
      ]
     },
     "execution_count": 23,
     "metadata": {},
     "output_type": "execute_result"
    }
   ],
   "source": [
    "df.stimulus_type.unique()"
   ]
  },
  {
   "cell_type": "code",
   "execution_count": 24,
   "metadata": {},
   "outputs": [],
   "source": [
    "df = df[df.brain_region != \"None\"]"
   ]
  },
  {
   "cell_type": "code",
   "execution_count": 25,
   "metadata": {},
   "outputs": [],
   "source": [
    "l = list(df.groupby([\"bird\", \"group_index\", \"trial_index\", \"stimulus_type\"]))\n",
    "probs = []\n",
    "\n",
    "for x, y in l:\n",
    "    # assert y.brain_region.nunique() == len(y), y\n",
    "    try:\n",
    "        assert y.stimulus_type.nunique() == 1\n",
    "        assert y.nb_trials.nunique() == 1\n",
    "    except:\n",
    "       probs.append(x) \n",
    "\n",
    "ndf = df.copy()\n",
    "\n",
    "for bird, group_index, trial_index, stimulus_type in probs:\n",
    "    ndf = ndf[(ndf.bird != bird) | (ndf.group_index != group_index) | (ndf.trial_index != trial_index) | (ndf.stimulus_type != stimulus_type)]"
   ]
  },
  {
   "cell_type": "code",
   "execution_count": 26,
   "metadata": {},
   "outputs": [],
   "source": [
    "def plot_entry(index):\n",
    "    entry = df.iloc[index]\n",
    "    with open(entry['Spike File'], 'r') as f:\n",
    "        times = [float(y) for x in [f.read().split('\\n')[0]] for y in x.split()]\n",
    "\n",
    "    print(entry['Spike File'])\n",
    "\n",
    "    # Plot the spikes\n",
    "    plt.vlines(times, 0, 1, color='black')\n",
    "    \n",
    "    plt.show()"
   ]
  },
  {
   "cell_type": "code",
   "execution_count": 27,
   "metadata": {},
   "outputs": [],
   "source": [
    "DIVISOR = 70"
   ]
  },
  {
   "cell_type": "code",
   "execution_count": 28,
   "metadata": {},
   "outputs": [],
   "source": [
    "max_times = []\n",
    "for i in range(len(df)):\n",
    "    with open(df.iloc[i].spike_file, \"r\") as f:\n",
    "        max_times.append(max([float(y) for x in f.read().split('\\n') for y in x.split()]))\n",
    "\n",
    "max_time = int((max(max_times)) / DIVISOR) + 1"
   ]
  },
  {
   "cell_type": "code",
   "execution_count": 29,
   "metadata": {},
   "outputs": [],
   "source": [
    "cell_ids = bidict({cell_id: i for i, cell_id in enumerate(set(df.index))})\n",
    "brain_regions = bidict({region: i for i, region in enumerate(set(df.brain_region))})\n",
    "stimulus_types = bidict({stimulus: i for i, stimulus in enumerate(set(df.stimulus_type))})"
   ]
  },
  {
   "cell_type": "code",
   "execution_count": 30,
   "metadata": {},
   "outputs": [
    {
     "name": "stderr",
     "output_type": "stream",
     "text": [
      "100%|██████████| 4049/4049 [00:13<00:00, 306.49it/s]\n"
     ]
    }
   ],
   "source": [
    "from tqdm import tqdm\n",
    "from collections import defaultdict\n",
    "\n",
    "# d = {\"Brain Region\": []}\n",
    "d = {f\"{y}_{x}\": [] for y in brain_regions for x in range(max_time)}\n",
    "y = []\n",
    "\n",
    "for (bird, group_index, trial_index, stimulus_type), group in tqdm(l):\n",
    "    nb_trials = group.iloc[0].nb_trials\n",
    "\n",
    "    files = []\n",
    "    for path, region in zip(group.spike_file, group.brain_region):\n",
    "        files.append((open(path, \"r\"), region))\n",
    "\n",
    "    for x in range(nb_trials):\n",
    "        spikes = defaultdict(int)\n",
    "        for f, region in files:\n",
    "            for spike in f.readline().split():\n",
    "                spike = int(float(spike) / DIVISOR)\n",
    "\n",
    "                if spike >= 0 and spike <= max_time:\n",
    "                    spikes[f\"{region}_{spike}\"] += 1\n",
    "                \n",
    "        for time in range(max_time):\n",
    "            regions = set(group.brain_region.values)\n",
    "            for region in brain_regions:\n",
    "                if region in regions:\n",
    "                    d[f\"{region}_{time}\"].append(spikes[f\"{region}_{time}\"] + 1)\n",
    "                else:\n",
    "                    d[f\"{region}_{time}\"].append(0)\n",
    "\n",
    "        y.append(stimulus_types[stimulus_type])\n",
    "\n",
    "                \n",
    "\n",
    "    \n",
    "\n",
    "    # with open(spike_file, \"r\") as f:\n",
    "    #     trials = f.readlines()\n",
    "    #     for trial in trials:\n",
    "    #         d[\"Cell ID\"].append(cell_ids[cell_id])\n",
    "    #         d[\"Brain Region\"].append(brain_regions[brain_region])\n",
    "    #         d[\"Number of Spikes\"].append(len(trial.split()))\n",
    "    #         y.append(1 if stimulus_type == \"conspecific\" else 0)\n",
    "\n",
    "    #         times = {int(float(time)) for time in trial.split()}\n",
    "    #         for time in range(max_time):\n",
    "    #             if time in times:\n",
    "    #                 d[str(time)].append(1)\n",
    "    #             else:\n",
    "    #                 d[str(time)].append(0)\n",
    "\n",
    "    for file, _ in files:\n",
    "        file.close()\n",
    "        \n",
    "X = pd.DataFrame(d)\n",
    "\n",
    "X_backup = X.copy()\n",
    "y_backup = y.copy()"
   ]
  },
  {
   "cell_type": "code",
   "execution_count": 31,
   "metadata": {},
   "outputs": [],
   "source": [
    "X_train, X_test, y_train, y_test = train_test_split(X, y, test_size=0.2, random_state=42)"
   ]
  },
  {
   "cell_type": "code",
   "execution_count": 32,
   "metadata": {},
   "outputs": [
    {
     "name": "stdout",
     "output_type": "stream",
     "text": [
      "0.6691\n"
     ]
    }
   ],
   "source": [
    "import sklearn as sk\n",
    "from sklearn.linear_model import LogisticRegression\n",
    "\n",
    "LR = LogisticRegression(random_state=0, solver='lbfgs', multi_class='auto').fit(X_train, y_train)\n",
    "print(round(LR.score(X_test,y_test), 4))"
   ]
  },
  {
   "cell_type": "code",
   "execution_count": null,
   "metadata": {},
   "outputs": [],
   "source": [
    "for key in brain_regions.keys():\n",
    "    print(key)"
   ]
  },
  {
   "cell_type": "code",
   "execution_count": null,
   "metadata": {},
   "outputs": [],
   "source": [
    "brain_region_of_interest = \"nucleus ovoidalis\"\n",
    "filteredX = X[X[\"Brain Region\"] == brain_regions[brain_region_of_interest]]\n",
    "filteredy = np.array(y)[X[\"Brain Region\"] == brain_regions[brain_region_of_interest]]"
   ]
  },
  {
   "cell_type": "code",
   "execution_count": null,
   "metadata": {},
   "outputs": [],
   "source": [
    "import random\n",
    "\n",
    "# We have more 1s than 0s, make the numbers equal\n",
    "indices = random.sample(np.argwhere(filteredy == 1).flatten().tolist(), len(np.argwhere(filteredy == 0).flatten().tolist()))\n",
    "indices += np.argwhere(filteredy == 0).flatten().tolist()\n",
    "\n",
    "filteredy = filteredy[indices]\n",
    "filteredX = filteredX.iloc[indices]"
   ]
  },
  {
   "cell_type": "code",
   "execution_count": null,
   "metadata": {},
   "outputs": [],
   "source": [
    "len(filteredy[filteredy == 0])"
   ]
  },
  {
   "cell_type": "code",
   "execution_count": null,
   "metadata": {},
   "outputs": [],
   "source": [
    "# brain_region_of_interest = \"nucleus ovoidalis\"\n",
    "\n",
    "# filteredX = X[X[\"Brain Region\"] == brain_regions[brain_region_of_interest]]\n",
    "# filteredy = np.array(y)[X[\"Brain Region\"] == brain_regions[brain_region_of_interest]]\n",
    "\n",
    "\n",
    "X_train, X_test, y_train, y_test = train_test_split(filteredX, filteredy, test_size=0.2, random_state=42)\n",
    "\n",
    "LR = LogisticRegression(random_state=0, solver=\"lbfgs\", multi_class='multinomial').fit(X_train, y_train)\n",
    "print(round(LR.score(X_test,y_test), 4))"
   ]
  },
  {
   "cell_type": "code",
   "execution_count": 105,
   "metadata": {},
   "outputs": [
    {
     "data": {
      "text/plain": [
       "<sklearn.metrics._plot.confusion_matrix.ConfusionMatrixDisplay at 0x28054b4d0>"
      ]
     },
     "execution_count": 105,
     "metadata": {},
     "output_type": "execute_result"
    },
    {
     "data": {
      "image/png": "[encoded data removed]",
      "text/plain": [
       "<Figure size 640x480 with 2 Axes>"
      ]
     },
     "metadata": {},
     "output_type": "display_data"
    }
   ],
   "source": [
    "predictions = LR.predict(X_test)\n",
    "cm = confusion_matrix(y_test, predictions)\n",
    "disp = ConfusionMatrixDisplay(confusion_matrix=cm, display_labels=[\"Artificial\", \"Conspecific\"])\n",
    "disp.plot()"
   ]
  },
  {
   "cell_type": "code",
   "execution_count": null,
   "metadata": {},
   "outputs": [],
   "source": [
    "from sklearn.linear_model import LogisticRegression\n",
    "\n",
    "for cell_id in cell_ids.keys():\n",
    "    filteredX = X[X[\"Cell ID\"] == cell_ids[cell_id]]\n",
    "    filteredy = np.array(y)[X[\"Cell ID\"] == cell_ids[cell_id]]\n",
    "    X_train, X_test, y_train, y_test = train_test_split(filteredX, filteredy, test_size=0.2, random_state=42)\n",
    "\n",
    "    LR = LogisticRegression(random_state=0, solver='lbfgs', multi_class='multinomial').fit(X_train, y_train)\n",
    "    print(f\"{cell_id}: {round(LR.score(X_test,y_test), 4)}\")\n",
    "\n",
    "    "
   ]
  },
  {
   "cell_type": "code",
   "execution_count": null,
   "metadata": {},
   "outputs": [],
   "source": []
  },
  {
   "cell_type": "code",
   "execution_count": null,
   "metadata": {},
   "outputs": [],
   "source": []
  },
  {
   "cell_type": "code",
   "execution_count": null,
   "metadata": {},
   "outputs": [],
   "source": []
  },
  {
   "cell_type": "code",
   "execution_count": 16,
   "metadata": {},
   "outputs": [],
   "source": [
    "from sklearn.ensemble import RandomForestClassifier\n",
    "\n",
    "# RF = RandomForestClassifier(n_estimators=100, max_depth=2, random_state=0)\n",
    "# RF.fit(X, y)\n",
    "# round(RF.score(X,y), 4)"
   ]
  },
  {
   "cell_type": "code",
   "execution_count": 17,
   "metadata": {},
   "outputs": [],
   "source": [
    "from sklearn.neural_network import MLPClassifier\n",
    "\n",
    "# NN = MLPClassifier(solver='lbfgs', alpha=1e-5, hidden_layer_sizes=(5, 2), random_state=1)\n",
    "# NN.fit(X, y)\n",
    "# round(NN.score(X,y), 4)"
   ]
  },
  {
   "cell_type": "code",
   "execution_count": 16,
   "metadata": {},
   "outputs": [
    {
     "data": {
      "text/plain": [
       "0.7705"
      ]
     },
     "execution_count": 16,
     "metadata": {},
     "output_type": "execute_result"
    }
   ],
   "source": [
    "from sklearn.neural_network import MLPClassifier\n",
    "\n",
    "# 0.8724\n",
    "NN = MLPClassifier(solver='lbfgs', alpha=1e-5, hidden_layer_sizes=(300, 150, 10), random_state=1).fit(X_train, y_train)\n",
    "round(NN.score(X_test, y_test), 4)"
   ]
  },
  {
   "cell_type": "code",
   "execution_count": 49,
   "metadata": {},
   "outputs": [
    {
     "data": {
      "text/plain": [
       "0.8595"
      ]
     },
     "execution_count": 49,
     "metadata": {},
     "output_type": "execute_result"
    }
   ],
   "source": [
    "NN = MLPClassifier(solver='lbfgs', alpha=1e-5, hidden_layer_sizes=(1000, 150, 50), random_state=1).fit(X_train, y_train)\n",
    "round(NN.score(X_test, y_test), 4)"
   ]
  },
  {
   "cell_type": "code",
   "execution_count": 35,
   "metadata": {},
   "outputs": [
    {
     "name": "stdout",
     "output_type": "stream",
     "text": [
      "0.7964\n"
     ]
    }
   ],
   "source": [
    "LR = LogisticRegression(random_state=0, solver='lbfgs', multi_class='multinomial').fit(X_train, y_train)\n",
    "print(round(LR.score(X_test,y_test), 4))\n",
    "\n",
    "SVM = SVC(decision_function_shape=\"ovo\").fit(X_train, y_train)\n",
    "print(round(SVM.score(X_test, y_test), 4))\n",
    "\n",
    "RF = RandomForestClassifier(n_estimators=1000, max_depth=10, random_state=0).fit(X_train, y_train)\n",
    "print(round(RF.score(X_test, y_test), 4))"
   ]
  },
  {
   "cell_type": "code",
   "execution_count": null,
   "metadata": {},
   "outputs": [],
   "source": [
    "def evaluate_model(clf, X, y, ftrs=None):\n",
    "    fig, axes = plt.subplots(1,2,figsize=(13,5))\n",
    "    predictions = clf.predict(X)\n",
    "    cm = confusion_matrix(y, predictions, labels=clf.classes_)\n",
    "    disp = ConfusionMatrixDisplay(confusion_matrix=cm, display_labels=clf.classes_)\n",
    "    disp.plot(ax=axes[0])\n",
    "    print(classification_report(y, predictions, zero_division=1))\n",
    "\n",
    "clf = SVC(kernel='linear')\n",
    "clf.fit(X_train, y_train)\n",
    "evaluate_model(clf, X_test, y_test)"
   ]
  },
  {
   "cell_type": "code",
   "execution_count": null,
   "metadata": {},
   "outputs": [],
   "source": []
  },
  {
   "cell_type": "code",
   "execution_count": null,
   "metadata": {},
   "outputs": [],
   "source": [
    "max_times = []\n",
    "for i in range(len(df)):\n",
    "    with open(df.iloc[i][\"Spike File\"], \"r\") as f:\n",
    "        max_times.append(max([float(y) for x in f.read().split('\\n') for y in x.split()]))\n",
    "\n",
    "max_time = int(max(max_times)) + 1\n",
    "\n",
    "d = {\"Cell ID\": [], \"Brain Region\": []}\n",
    "d.update({str(x): [] for x in range(max_time)})\n",
    "y = []\n",
    "\n",
    "for i in range(len(df)):\n",
    "    cell_id = df.index[i]\n",
    "    brain_region = df.iloc[i][\"Brain Region\"]\n",
    "    stimulus_type = df.iloc[i][\"Stimulus Type\"]\n",
    "\n",
    "    with open(df.iloc[i][\"Spike File\"], \"r\") as f:\n",
    "        trials = f.readlines()\n",
    "        for trial in trials:\n",
    "            d[\"Cell ID\"].append(cell_ids[cell_id])\n",
    "            d[\"Brain Region\"].append(brain_regions[brain_region])\n",
    "            y.append(stimulus_types[stimulus_type])\n",
    "\n",
    "            times = {int(float(time)) for time in trial.split()}\n",
    "            for time in range(max_time):\n",
    "                if time in times:\n",
    "                    d[str(time)].append(1)\n",
    "                else:\n",
    "                    d[str(time)].append(0)\n",
    "        \n",
    "X = pd.DataFrame(d)\n",
    "\n",
    "# X_backup = X.copy()\n",
    "# y_backup = y.copy()"
   ]
  },
  {
   "cell_type": "code",
   "execution_count": null,
   "metadata": {},
   "outputs": [],
   "source": [
    "d = {\"Cell ID\": [], \"Brain Region\": [], \"Average Spikes\": []}\n",
    "avgy = []\n",
    "\n",
    "for i in range(len(df)):\n",
    "    cell_id = df.index[i]\n",
    "    brain_region = df.iloc[i][\"Brain Region\"]\n",
    "    stimulus_type = df.iloc[i][\"Stimulus Type\"]\n",
    "\n",
    "    d[\"Cell ID\"].append(cell_ids[cell_id])\n",
    "    d[\"Brain Region\"].append(brain_regions[brain_region])\n",
    "    d[\"Average Spikes\"].append(df.iloc[i][\"Average Spikes\"])\n",
    "    avgy.append(stimulus_types[stimulus_type])\n",
    "\n",
    "avgX = pd.DataFrame(d)"
   ]
  },
  {
   "cell_type": "code",
   "execution_count": null,
   "metadata": {},
   "outputs": [],
   "source": [
    "for brain_region_of_interest in brain_regions.keys():\n",
    "    filteredX = avgX[avgX[\"Brain Region\"] == brain_regions[brain_region_of_interest]]\n",
    "    filteredy = np.array(avgy)[avgX[\"Brain Region\"] == brain_regions[brain_region_of_interest]]\n",
    "\n",
    "\n",
    "    X_train, X_test, y_train, y_test = train_test_split(filteredX, filteredy, test_size=0.2, random_state=42)\n",
    "    LR = LogisticRegression(random_state=0, solver='lbfgs', multi_class='multinomial').fit(X_train, y_train)\n",
    "    print(f\"{brain_region_of_interest}: {round(LR.score(X_test,y_test), 4)}\")"
   ]
  },
  {
   "cell_type": "code",
   "execution_count": null,
   "metadata": {},
   "outputs": [],
   "source": [
    "import sklearn as sk\n",
    "from sklearn.linear_model import LogisticRegression\n",
    "\n",
    "LR = LogisticRegression(random_state=0, solver='lbfgs', multi_class='multinomial').fit(X_train, y_train)\n",
    "print(round(LR.score(X_test,y_test), 4))"
   ]
  },
  {
   "cell_type": "code",
   "execution_count": null,
   "metadata": {},
   "outputs": [],
   "source": [
    "brain_region_of_interest = \"nucleus ovoidalis\"\n",
    "filteredX = avgX[avgX[\"Brain Region\"] == brain_regions[brain_region_of_interest]]\n",
    "filteredy = np.array(avgy)[avgX[\"Brain Region\"] == brain_regions[brain_region_of_interest]]\n",
    "\n",
    "\n",
    "X_train, X_test, y_train, y_test = train_test_split(filteredX, filteredy, test_size=0.2, random_state=42)"
   ]
  },
  {
   "cell_type": "code",
   "execution_count": 50,
   "metadata": {},
   "outputs": [
    {
     "name": "stdout",
     "output_type": "stream",
     "text": [
      "0.7623\n"
     ]
    }
   ],
   "source": [
    "# LR = LogisticRegression(random_state=0, solver='lbfgs', multi_class='multinomial').fit(X_train, y_train)\n",
    "# print(round(LR.score(X_test,y_test), 4))\n",
    "\n",
    "# SVM = SVC(decision_function_shape=\"ovo\").fit(X_train, y_train)\n",
    "# print(round(SVM.score(X_test, y_test), 4))\n",
    "\n",
    "RF = RandomForestClassifier(n_estimators=1000, max_depth=10, random_state=0).fit(X_train, y_train)\n",
    "print(round(RF.score(X_test, y_test), 4))\n",
    "\n",
    "# NN = MLPClassifier(solver='lbfgs', alpha=1e-5, hidden_layer_sizes=(1000, 1000, 150, 50, 50, 50, 10), random_state=1).fit(X_train, y_train)\n",
    "# round(NN.score(X_test, y_test), 4)"
   ]
  },
  {
   "cell_type": "code",
   "execution_count": null,
   "metadata": {},
   "outputs": [],
   "source": [
    "df.to_csv(\"/tmp/shite.csv\")"
   ]
  },
  {
   "cell_type": "code",
   "execution_count": null,
   "metadata": {},
   "outputs": [],
   "source": [
    "# Where cell id startswith gr\n",
    "df[df.index.str.startswith(\"gr\")]"
   ]
  },
  {
   "cell_type": "code",
   "execution_count": null,
   "metadata": {},
   "outputs": [],
   "source": [
    "s = \"oo0108_1_A\"\n",
    "s.split(\"_\", 1)"
   ]
  },
  {
   "cell_type": "code",
   "execution_count": null,
   "metadata": {},
   "outputs": [],
   "source": []
  }
 ],
 "metadata": {
  "kernelspec": {
   "display_name": "Python 3",
   "language": "python",
   "name": "python3"
  },
  "language_info": {
   "codemirror_mode": {
    "name": "ipython",
    "version": 3
   },
   "file_extension": ".py",
   "mimetype": "text/x-python",
   "name": "python",
   "nbconvert_exporter": "python",
   "pygments_lexer": "ipython3",
   "version": "3.11.4"
  },
  "orig_nbformat": 4
 },
 "nbformat": 4,
 "nbformat_minor": 2
}
